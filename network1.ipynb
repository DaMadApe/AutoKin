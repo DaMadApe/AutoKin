{
 "metadata": {
  "language_info": {
   "codemirror_mode": {
    "name": "ipython",
    "version": 3
   },
   "file_extension": ".py",
   "mimetype": "text/x-python",
   "name": "python",
   "nbconvert_exporter": "python",
   "pygments_lexer": "ipython3",
   "version": "3.8.5"
  },
  "orig_nbformat": 2,
  "kernelspec": {
   "name": "python385jvsc74a57bd02cdf16027de25d041799f21881077de18674375207b67c87b0131ea69dcfb186",
   "display_name": "Python 3.8.5 64-bit ('base': conda)"
  },
  "metadata": {
   "interpreter": {
    "hash": "2cdf16027de25d041799f21881077de18674375207b67c87b0131ea69dcfb186"
   }
  }
 },
 "nbformat": 4,
 "nbformat_minor": 2,
 "cells": [
  {
   "cell_type": "code",
   "execution_count": 1,
   "metadata": {},
   "outputs": [
    {
     "output_type": "stream",
     "name": "stdout",
     "text": [
      "Using cpu device\n"
     ]
    }
   ],
   "source": [
    "import torch\n",
    "from torch import nn, optim\n",
    "import numpy as np \n",
    "import csv\n",
    "\n",
    "device = 'cuda' if torch.cuda.is_available() else 'cpu'\n",
    "print('Using {} device'.format(device))"
   ]
  },
  {
   "source": [
    "# Preparación de datos"
   ],
   "cell_type": "markdown",
   "metadata": {}
  },
  {
   "cell_type": "code",
   "execution_count": 2,
   "metadata": {},
   "outputs": [
    {
     "output_type": "execute_result",
     "data": {
      "text/plain": [
       "((4898, 12),\n",
       " ['fixed acidity',\n",
       "  'volatile acidity',\n",
       "  'citric acid',\n",
       "  'residual sugar',\n",
       "  'chlorides',\n",
       "  'free sulfur dioxide',\n",
       "  'total sulfur dioxide',\n",
       "  'density',\n",
       "  'pH',\n",
       "  'sulphates',\n",
       "  'alcohol',\n",
       "  'quality'])"
      ]
     },
     "metadata": {},
     "execution_count": 2
    }
   ],
   "source": [
    "#Obtención de datos crudos\n",
    "wine_data_path = '../TestData/winequality-white.csv'\n",
    "wine_data_raw = np.loadtxt(wine_data_path, dtype=np.float32,\n",
    "delimiter=';', skiprows=1) #Brincar primera linea con nombres de columna\n",
    "\n",
    "#Obtención de etiquetas de columna\n",
    "col_list = next(csv.reader(open(wine_data_path), delimiter=';'))\n",
    "\n",
    "wine_data_raw.shape, col_list"
   ]
  },
  {
   "cell_type": "code",
   "execution_count": 3,
   "metadata": {},
   "outputs": [],
   "source": [
    "#Dividir los datos en tensores\n",
    "wine_data = torch.from_numpy(wine_data_raw)\n",
    "\n",
    "data = wine_data[:, :-1]\n",
    "target = wine_data[:, -1].long()"
   ]
  },
  {
   "cell_type": "code",
   "execution_count": 4,
   "metadata": {},
   "outputs": [
    {
     "output_type": "execute_result",
     "data": {
      "text/plain": [
       "tensor(20)"
      ]
     },
     "metadata": {},
     "execution_count": 4
    }
   ],
   "source": [
    "#Revisión de datos\n",
    "#e.g. revisar vinos en diferentes rangos de puntaje\n",
    "bad_indexes = target <= 3 #Produce un tensor de bools para los vinos que cumplen condición\n",
    "mid_indexes = (target > 3) & (target < 7)\n",
    "top_indexes = target >= 7\n",
    "bad_indexes.sum() #Solo 20 vinos con esa calificación"
   ]
  },
  {
   "cell_type": "code",
   "execution_count": 5,
   "metadata": {},
   "outputs": [],
   "source": [
    "#Advanced indexing: Corresponde a entradas donde el tensor índice es verdadero\n",
    "top_data = data[target >= 7] \n",
    "mid_data = data[(target > 3) & (target < 7)]\n",
    "bad_data = data[bad_indexes] \n"
   ]
  },
  {
   "source": [
    "# Definición de arquitectura"
   ],
   "cell_type": "markdown",
   "metadata": {}
  },
  {
   "cell_type": "code",
   "execution_count": 6,
   "metadata": {},
   "outputs": [
    {
     "output_type": "execute_result",
     "data": {
      "text/plain": [
       "Sequential(\n",
       "  (0): Linear(in_features=11, out_features=30, bias=True)\n",
       "  (1): ReLU()\n",
       "  (2): Linear(in_features=30, out_features=1, bias=True)\n",
       ")"
      ]
     },
     "metadata": {},
     "execution_count": 6
    }
   ],
   "source": [
    "\"\"\" class WiNet(nn.Module):\n",
    "    def __init__(self):\n",
    "        super(WiNet, self).__init__()\n",
    "        self.linear_relu_stack = nn.Sequential(\n",
    "            nn.Linear(11, 30),\n",
    "            nn.ReLU(),\n",
    "            nn.Linear(30, 1)\n",
    "        )\n",
    "    \n",
    "    def forward(self, x):\n",
    "        return self.linear_relu_stack(x)\n",
    " \"\"\"\n",
    "model = nn.Sequential(\n",
    "    nn.Linear(11, 30),\n",
    "    nn.ReLU(),\n",
    "    nn.Linear(30, 1)\n",
    ")\n",
    "        \n",
    "model\n"
   ]
  },
  {
   "source": [
    "# Optimización de la red"
   ],
   "cell_type": "markdown",
   "metadata": {}
  },
  {
   "cell_type": "code",
   "execution_count": 8,
   "metadata": {},
   "outputs": [],
   "source": [
    "learning_rate = 1e-3\n",
    "batch_size = 64\n",
    "epochs = 5\n",
    "\n",
    "optimizer = optim.Adam(model.parameters(),\n",
    "    lr = learning_rate)\n",
    "loss_fn = nn.MSELoss()\n",
    "\n",
    "def training_loop(model, epochs, optimizer, loss_fn, train_data, test_data):\n",
    "    for t in range(epochs):\n",
    "\n",
    "        loss = loss_fn()\n",
    "        \n",
    "\n",
    "        if t % 100 == 0:\n",
    "            print(t, loss.item())\n",
    "\n",
    "        optimizer.zero_grad()\n",
    "        loss.backward()\n",
    "        optimizer.step()"
   ]
  },
  {
   "cell_type": "code",
   "execution_count": null,
   "metadata": {},
   "outputs": [],
   "source": []
  }
 ]
}
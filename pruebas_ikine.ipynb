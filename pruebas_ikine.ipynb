{
 "cells": [
  {
   "cell_type": "code",
   "execution_count": 44,
   "metadata": {},
   "outputs": [
    {
     "data": {
      "text/plain": [
       "MLP(\n",
       "  (layers): ModuleList(\n",
       "    (0): Linear(in_features=4, out_features=12, bias=True)\n",
       "    (1): Linear(in_features=12, out_features=12, bias=True)\n",
       "    (2): Linear(in_features=12, out_features=12, bias=True)\n",
       "    (3): Linear(in_features=12, out_features=12, bias=True)\n",
       "    (4): Linear(in_features=12, out_features=3, bias=True)\n",
       "  )\n",
       ")"
      ]
     },
     "execution_count": 44,
     "metadata": {},
     "output_type": "execute_result"
    }
   ],
   "source": [
    "import roboticstoolbox as rtb\n",
    "import torch    \n",
    "\n",
    "from utils import denorm_q\n",
    "\n",
    "robot = rtb.models.DH.Cobra600() #Puma560()\n",
    "\n",
    "model = torch.load('models/cobra600_v1.pt')\n",
    "model.eval()"
   ]
  },
  {
   "cell_type": "code",
   "execution_count": 45,
   "metadata": {},
   "outputs": [
    {
     "data": {
      "text/plain": [
       "(array([[ 0.46998231, -0.3274512 ,  0.18354907],\n",
       "        [ 0.41221405, -0.23280998,  0.28731804],\n",
       "        [ 0.3077849 ,  0.38876085,  0.21852716]]),\n",
       " tensor([[ 0.4682, -0.3307,  0.1835],\n",
       "         [ 0.4122, -0.2387,  0.2879],\n",
       "         [ 0.3099,  0.3850,  0.2166]]),\n",
       " tensor(7.9428e-06, dtype=torch.float64))"
      ]
     },
     "execution_count": 45,
     "metadata": {},
     "output_type": "execute_result"
    }
   ],
   "source": [
    "criterion = torch.nn.MSELoss()\n",
    "q_test = torch.rand((3, robot.n))\n",
    "\n",
    "real = robot.fkine(denorm_q(robot, q_test.numpy())).t\n",
    "pred = model(q_test).detach()\n",
    "\n",
    "error = criterion(pred, torch.tensor(real))\n",
    "\n",
    "real, pred, error"
   ]
  },
  {
   "cell_type": "code",
   "execution_count": 46,
   "metadata": {},
   "outputs": [
    {
     "data": {
      "text/plain": [
       "(tensor(1.2472), tensor(1.2472))"
      ]
     },
     "execution_count": 46,
     "metadata": {},
     "output_type": "execute_result"
    }
   ],
   "source": [
    "p1 = torch.tensor([1, 2, 3], dtype=torch.float)#torch.rand(3)\n",
    "p2 = torch.tensor([0, 0, 0], dtype=torch.float)#torch.rand(3)\n",
    "\n",
    "torch.sqrt(torch.sum((p1-p2)**2))/len(p1), torch.sqrt(criterion(p1,p2)/len(p1))"
   ]
  },
  {
   "cell_type": "code",
   "execution_count": 48,
   "metadata": {},
   "outputs": [],
   "source": [
    "from torch.autograd.functional import jacobian\n",
    "\n",
    "from ikine import ikine_pi_jacob\n",
    "\n",
    "def model_fkine(q):\n",
    "    return model(q).detach()\n",
    "\n",
    "def model_jacobian(q):\n",
    "    return jacobian(model, q).squeeze() #.float()\n",
    "\n",
    "def robot_fkine(q):\n",
    "    return torch.tensor(robot.fkine(q.numpy()).t, dtype=torch.float)\n",
    "\n",
    "def robot_jacobian(q):\n",
    "    return torch.tensor(robot.jacob0(q.numpy())[:3], dtype=torch.float)\n",
    "\n",
    "q_start = denorm_q(robot, torch.rand(robot.n)).float()\n",
    "p_start = robot_fkine(q_start)\n",
    "\n",
    "q_target = denorm_q(robot, torch.rand(robot.n))\n",
    "p_target = robot_fkine(q_target)"
   ]
  },
  {
   "cell_type": "code",
   "execution_count": 55,
   "metadata": {},
   "outputs": [
    {
     "data": {
      "text/plain": [
       "(tensor([[-3.9878e-01, -2.6220e-01,  1.1676e-16,  0.0000e+00],\n",
       "         [ 3.7783e-01,  8.2927e-02, -3.6930e-17,  0.0000e+00],\n",
       "         [ 0.0000e+00,  0.0000e+00, -1.0000e+00,  0.0000e+00]]),\n",
       " tensor([[-0.2967, -0.6580, -0.0028,  0.0040],\n",
       "         [ 0.8733,  0.5351,  0.0062, -0.0039],\n",
       "         [-0.0028,  0.0064, -0.2077, -0.0014]]))"
      ]
     },
     "execution_count": 55,
     "metadata": {},
     "output_type": "execute_result"
    }
   ],
   "source": [
    "q_test = torch.rand(robot.n)\n",
    "\n",
    "robot_jacobian(q_test), model_jacobian(q_test)"
   ]
  },
  {
   "cell_type": "code",
   "execution_count": 49,
   "metadata": {},
   "outputs": [
    {
     "data": {
      "text/plain": [
       "(tensor([-0.7926,  0.6632,  0.0251, -0.8627]),\n",
       " tensor([-0.1868, -0.6632,  0.0251, -2.8044], dtype=torch.float64),\n",
       " tensor([ 0.5008, -0.2669,  0.3619]),\n",
       " tensor([ 0.5008, -0.2669,  0.3619]))"
      ]
     },
     "execution_count": 49,
     "metadata": {},
     "output_type": "execute_result"
    }
   ],
   "source": [
    "q_inv = ikine_pi_jacob(q_start, p_target, eta=0.1,\n",
    "                       fkine=robot_fkine, \n",
    "                       jacob=robot_jacobian)\n",
    "\n",
    "p_reached = robot_fkine(q_inv)\n",
    "\n",
    "q_inv, q_target, p_target, p_reached"
   ]
  },
  {
   "cell_type": "code",
   "execution_count": 50,
   "metadata": {},
   "outputs": [
    {
     "data": {
      "text/plain": [
       "(tensor([-62.1862,  12.2410,  -5.8807,  -0.8627]),\n",
       " tensor([-0.1868, -0.6632,  0.0251, -2.8044], dtype=torch.float64),\n",
       " tensor([ 0.5008, -0.2669,  0.3619]),\n",
       " tensor([0.5206, 0.2821, 6.2677]))"
      ]
     },
     "execution_count": 50,
     "metadata": {},
     "output_type": "execute_result"
    }
   ],
   "source": [
    "q_inv = ikine_pi_jacob(q_start, p_target, eta=0.1,\n",
    "                       fkine=model_fkine, \n",
    "                       jacob=robot_jacobian)\n",
    "\n",
    "p_reached = robot_fkine(q_inv)\n",
    "\n",
    "q_inv, q_target, p_target, p_reached"
   ]
  },
  {
   "cell_type": "code",
   "execution_count": 51,
   "metadata": {},
   "outputs": [
    {
     "data": {
      "text/plain": [
       "(tensor([-0.1868, -0.6632,  0.0251,  0.6082]),\n",
       " tensor([-0.1868, -0.6632,  0.0251, -2.8044], dtype=torch.float64),\n",
       " tensor([ 0.5008, -0.2669,  0.3619]),\n",
       " tensor([ 0.5008, -0.2669,  0.3619]))"
      ]
     },
     "execution_count": 51,
     "metadata": {},
     "output_type": "execute_result"
    }
   ],
   "source": [
    "q_inv = ikine_pi_jacob(q_start, p_target, eta=0.1,\n",
    "                       fkine=robot_fkine, \n",
    "                       jacob=model_jacobian)\n",
    "\n",
    "p_reached = robot_fkine(q_inv)\n",
    "\n",
    "q_inv, q_target, p_target, p_reached"
   ]
  },
  {
   "cell_type": "code",
   "execution_count": 52,
   "metadata": {},
   "outputs": [
    {
     "data": {
      "text/plain": [
       "(tensor([ 0.0643,  0.6714,  0.1173, -0.8480]),\n",
       " tensor([-0.1868, -0.6632,  0.0251, -2.8044], dtype=torch.float64),\n",
       " tensor([ 0.5008, -0.2669,  0.3619]),\n",
       " tensor([0.5282, 0.2054, 0.2697]))"
      ]
     },
     "execution_count": 52,
     "metadata": {},
     "output_type": "execute_result"
    }
   ],
   "source": [
    "q_inv = ikine_pi_jacob(q_start, p_target, eta=0.1,\n",
    "                       fkine=model_fkine, \n",
    "                       jacob=model_jacobian)\n",
    "\n",
    "p_reached = robot_fkine(q_inv)\n",
    "\n",
    "q_inv, q_target, p_target, p_reached"
   ]
  }
 ],
 "metadata": {
  "interpreter": {
   "hash": "26c557f0ed2f4410cdd06ba2ba16e7a84eb2b178742d0a59bbf81fd756c9761c"
  },
  "kernelspec": {
   "display_name": "Python 3.9.7 ('AutokinEnv')",
   "language": "python",
   "name": "python3"
  },
  "language_info": {
   "codemirror_mode": {
    "name": "ipython",
    "version": 3
   },
   "file_extension": ".py",
   "mimetype": "text/x-python",
   "name": "python",
   "nbconvert_exporter": "python",
   "pygments_lexer": "ipython3",
   "version": "3.9.7"
  },
  "orig_nbformat": 4
 },
 "nbformat": 4,
 "nbformat_minor": 2
}

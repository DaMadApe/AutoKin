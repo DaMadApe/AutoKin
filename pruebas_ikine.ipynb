{
 "cells": [
  {
   "cell_type": "code",
   "execution_count": 1,
   "metadata": {},
   "outputs": [
    {
     "data": {
      "text/plain": [
       "MLP(\n",
       "  (layers): ModuleList(\n",
       "    (0): Linear(in_features=4, out_features=12, bias=True)\n",
       "    (1): Linear(in_features=12, out_features=12, bias=True)\n",
       "    (2): Linear(in_features=12, out_features=12, bias=True)\n",
       "    (3): Linear(in_features=12, out_features=12, bias=True)\n",
       "    (4): Linear(in_features=12, out_features=3, bias=True)\n",
       "  )\n",
       ")"
      ]
     },
     "execution_count": 1,
     "metadata": {},
     "output_type": "execute_result"
    }
   ],
   "source": [
    "import roboticstoolbox as rtb\n",
    "import torch    \n",
    "\n",
    "from utils import denorm_q, norm_q\n",
    "\n",
    "robot = rtb.models.DH.Cobra600() #Puma560()\n",
    "\n",
    "model = torch.load('models/cobra600_v1.pt')\n",
    "model.eval()"
   ]
  },
  {
   "cell_type": "code",
   "execution_count": 2,
   "metadata": {},
   "outputs": [
    {
     "data": {
      "text/plain": [
       "(tensor([[ 2.0561e-02, -1.6188e-01,  7.2089e-17,  0.0000e+00],\n",
       "         [ 4.9127e-01,  2.2231e-01, -9.8999e-17,  0.0000e+00],\n",
       "         [ 0.0000e+00,  6.1630e-33, -1.0000e+00,  0.0000e+00]]),\n",
       " tensor([[ 2.4412e-02, -4.9757e-01, -2.0016e-03,  2.1616e-03],\n",
       "         [ 8.5986e-01,  6.9670e-01, -6.2503e-04, -3.8034e-03],\n",
       "         [ 4.2622e-04, -9.5126e-03, -2.1202e-01, -3.1727e-04]]))"
      ]
     },
     "execution_count": 2,
     "metadata": {},
     "output_type": "execute_result"
    }
   ],
   "source": [
    "from torch.autograd.functional import jacobian\n",
    "\n",
    "from ikine import ikine_pi_jacob\n",
    "\n",
    "def model_fkine(q):\n",
    "    return model(norm_q(robot, q)).detach()\n",
    "\n",
    "def model_jacobian(q):\n",
    "    return jacobian(model, norm_q(robot, q)).squeeze()\n",
    "\n",
    "def robot_fkine(q):\n",
    "    return torch.tensor(robot.fkine(q.numpy()).t, dtype=torch.float)\n",
    "\n",
    "def robot_jacobian(q):\n",
    "    return torch.tensor(robot.jacob0(q.numpy())[:3], dtype=torch.float)\n",
    "\n",
    "\n",
    "q_test = denorm_q(robot, torch.rand(robot.n))\n",
    "robot_jacobian(q_test), model_jacobian(q_test)"
   ]
  },
  {
   "cell_type": "code",
   "execution_count": 3,
   "metadata": {},
   "outputs": [
    {
     "data": {
      "text/plain": [
       "(tensor([[ 0.5372, -0.2628,  0.1988],\n",
       "         [ 0.1253,  0.4735,  0.3035],\n",
       "         [ 0.4566, -0.3594,  0.3223]]),\n",
       " tensor([[ 0.5375, -0.2669,  0.1993],\n",
       "         [ 0.1255,  0.4708,  0.3009],\n",
       "         [ 0.4557, -0.3651,  0.3233]]),\n",
       " tensor(7.3042e-06))"
      ]
     },
     "execution_count": 3,
     "metadata": {},
     "output_type": "execute_result"
    }
   ],
   "source": [
    "criterion = torch.nn.MSELoss()\n",
    "q_test = denorm_q(robot, torch.rand((3, robot.n)))\n",
    "\n",
    "real = robot_fkine(q_test)\n",
    "pred = model_fkine(q_test)\n",
    "\n",
    "error = criterion(pred, real)\n",
    "\n",
    "real, pred, error"
   ]
  },
  {
   "cell_type": "code",
   "execution_count": 4,
   "metadata": {},
   "outputs": [],
   "source": [
    "q_start = denorm_q(robot, torch.rand(robot.n))\n",
    "p_start = robot_fkine(q_start)\n",
    "\n",
    "q_target = denorm_q(robot, torch.rand(robot.n))\n",
    "p_target = robot_fkine(q_target)"
   ]
  },
  {
   "cell_type": "code",
   "execution_count": 5,
   "metadata": {},
   "outputs": [
    {
     "data": {
      "text/plain": [
       "(tensor([-5.5321,  0.3985,  0.1738,  2.2638]),\n",
       " tensor([0.7511, 0.3985, 0.1738, 2.4646]),\n",
       " tensor([0.3500, 0.4728, 0.2132]),\n",
       " tensor([0.3500, 0.4728, 0.2132]))"
      ]
     },
     "execution_count": 5,
     "metadata": {},
     "output_type": "execute_result"
    }
   ],
   "source": [
    "q_inv = ikine_pi_jacob(q_start, p_target, eta=0.1,\n",
    "                       fkine=robot_fkine, \n",
    "                       jacob=robot_jacobian)\n",
    "\n",
    "p_reached = robot_fkine(q_inv)\n",
    "\n",
    "q_inv, q_target, p_target, p_reached"
   ]
  },
  {
   "cell_type": "code",
   "execution_count": 9,
   "metadata": {},
   "outputs": [
    {
     "data": {
      "text/plain": [
       "(tensor([-520.2115, 1224.9121,   -2.2041,    2.2638]),\n",
       " tensor([0.7511, 0.3985, 0.1738, 2.4646]),\n",
       " tensor([0.3500, 0.4728, 0.2132]),\n",
       " tensor([0.2415, 0.5415, 2.5911]))"
      ]
     },
     "execution_count": 9,
     "metadata": {},
     "output_type": "execute_result"
    }
   ],
   "source": [
    "q_inv = ikine_pi_jacob(q_start, p_target, eta=0.1,\n",
    "                       fkine=model_fkine, \n",
    "                       jacob=robot_jacobian)\n",
    "\n",
    "p_reached = robot_fkine(q_inv)\n",
    "\n",
    "q_inv, q_target, p_target, p_reached"
   ]
  },
  {
   "cell_type": "code",
   "execution_count": 7,
   "metadata": {},
   "outputs": [
    {
     "data": {
      "text/plain": [
       "(tensor([0.7511, 0.3985, 0.1738, 2.4455]),\n",
       " tensor([0.7511, 0.3985, 0.1738, 2.4646]),\n",
       " tensor([0.3500, 0.4728, 0.2132]),\n",
       " tensor([0.3500, 0.4728, 0.2132]))"
      ]
     },
     "execution_count": 7,
     "metadata": {},
     "output_type": "execute_result"
    }
   ],
   "source": [
    "q_inv = ikine_pi_jacob(q_start, p_target, eta=0.1,\n",
    "                       fkine=robot_fkine, \n",
    "                       jacob=model_jacobian)\n",
    "\n",
    "p_reached = robot_fkine(q_inv)\n",
    "\n",
    "q_inv, q_target, p_target, p_reached"
   ]
  },
  {
   "cell_type": "code",
   "execution_count": 8,
   "metadata": {},
   "outputs": [
    {
     "data": {
      "text/plain": [
       "(tensor([0.7602, 0.3938, 0.1714, 2.4468]),\n",
       " tensor([0.7511, 0.3985, 0.1738, 2.4646]),\n",
       " tensor([0.3500, 0.4728, 0.2132]),\n",
       " tensor([0.3468, 0.4754, 0.2156]))"
      ]
     },
     "execution_count": 8,
     "metadata": {},
     "output_type": "execute_result"
    }
   ],
   "source": [
    "q_inv = ikine_pi_jacob(q_start, p_target, eta=0.1,\n",
    "                       fkine=model_fkine, \n",
    "                       jacob=model_jacobian)\n",
    "\n",
    "p_reached = robot_fkine(q_inv)\n",
    "\n",
    "q_inv, q_target, p_target, p_reached"
   ]
  }
 ],
 "metadata": {
  "interpreter": {
   "hash": "26c557f0ed2f4410cdd06ba2ba16e7a84eb2b178742d0a59bbf81fd756c9761c"
  },
  "kernelspec": {
   "display_name": "Python 3.9.7 ('AutokinEnv')",
   "language": "python",
   "name": "python3"
  },
  "language_info": {
   "codemirror_mode": {
    "name": "ipython",
    "version": 3
   },
   "file_extension": ".py",
   "mimetype": "text/x-python",
   "name": "python",
   "nbconvert_exporter": "python",
   "pygments_lexer": "ipython3",
   "version": "3.9.7"
  },
  "orig_nbformat": 4
 },
 "nbformat": 4,
 "nbformat_minor": 2
}

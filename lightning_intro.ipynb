{
 "cells": [
  {
   "cell_type": "code",
   "execution_count": 10,
   "metadata": {},
   "outputs": [],
   "source": [
    "import torch\n",
    "from torch import nn\n",
    "#from torchvision.datasets import MNIST\n",
    "#from torchvision import transforms\n",
    "from torch.utils.data import TensorDataset, DataLoader\n",
    "import pytorch_lightning as pl\n",
    "import matplotlib.pyplot as plt\n",
    "\n",
    "cpu_cores = 4"
   ]
  },
  {
   "cell_type": "markdown",
   "metadata": {},
   "source": [
    "En Lightning se necesitan 3 cosas:\n",
    "1. El módulo Lightning\n",
    "2. Definir el conjunto de datos\n",
    "3. Correr entrenamiento"
   ]
  },
  {
   "cell_type": "markdown",
   "metadata": {},
   "source": [
    "### Módulo"
   ]
  },
  {
   "cell_type": "code",
   "execution_count": 11,
   "metadata": {},
   "outputs": [],
   "source": [
    "class Regressor(pl.LightningModule):\n",
    "\n",
    "    def __init__(self, mid_size):\n",
    "        super().__init__()\n",
    "        self.model = nn.Sequential(\n",
    "            nn.Linear(1, mid_size),\n",
    "            nn.ReLU(),\n",
    "            nn.Linear(mid_size, mid_size),\n",
    "            nn.ReLU(),\n",
    "            nn.Linear(mid_size, 1))\n",
    "\n",
    "    def forward(self, x):\n",
    "        return self.model(x)\n",
    "\n",
    "    def configure_optimizers(self):\n",
    "        optimizer = torch.optim.Adam(self.parameters(), lr=3e-4)\n",
    "        return optimizer\n",
    "\n",
    "    def training_step(self, batch, batch_idx):\n",
    "        point, target = batch\n",
    "        pred = self.model(point)\n",
    "        criterion = nn.MSELoss()\n",
    "        loss = criterion(pred, target)\n",
    "        self.log('train_loss', loss)\n",
    "        return loss\n",
    "\n",
    "    #def validation_step(self, point, target):"
   ]
  },
  {
   "cell_type": "markdown",
   "metadata": {},
   "source": [
    "## Conjunto de datos"
   ]
  },
  {
   "cell_type": "code",
   "execution_count": 12,
   "metadata": {},
   "outputs": [],
   "source": [
    "n_samples=10\n",
    "def f(x): return 2*x#0.4*x**3 - 0.8*x**2 + 2*x + 10\n",
    "#x = torch.linspace(0, 1, n_samples).view(-1,1)\n",
    "x = torch.rand(n_samples, 1)\n",
    "y = f(x)\n",
    "dataset = TensorDataset(x, y)\n",
    "train_loader = DataLoader(dataset, batch_size=2, shuffle=True,\n",
    "                          num_workers=args['cpu_cores'])"
   ]
  },
  {
   "cell_type": "markdown",
   "metadata": {},
   "source": [
    "## Entrenamiento"
   ]
  },
  {
   "cell_type": "code",
   "execution_count": 13,
   "metadata": {},
   "outputs": [
    {
     "name": "stderr",
     "output_type": "stream",
     "text": [
      "GPU available: False, used: False\n",
      "TPU available: False, using: 0 TPU cores\n",
      "\n",
      "  | Name  | Type       | Params\n",
      "-------------------------------------\n",
      "0 | model | Sequential | 1.0 K \n",
      "-------------------------------------\n",
      "1.0 K     Trainable params\n",
      "0         Non-trainable params\n",
      "1.0 K     Total params\n",
      "0.004     Total estimated model params size (MB)\n"
     ]
    },
    {
     "name": "stdout",
     "output_type": "stream",
     "text": [
      "Epoch 99: 100%|██████████| 5/5 [00:00<00:00, 34.52it/s, loss=0.0624, v_num=7]\n"
     ]
    }
   ],
   "source": [
    "model = Regressor(mid_size=30)\n",
    "trainer = pl.Trainer(max_epochs=100, num_processes=4)\n",
    "trainer.fit(model, train_loader)"
   ]
  },
  {
   "cell_type": "code",
   "execution_count": 14,
   "metadata": {},
   "outputs": [
    {
     "data": {
      "text/plain": [
       "[<matplotlib.lines.Line2D at 0x7f8c7d8eb280>]"
      ]
     },
     "execution_count": 14,
     "metadata": {},
     "output_type": "execute_result"
    },
    {
     "data": {
      "image/png": "[encoded data removed]",
      "text/plain": [
       "<Figure size 432x288 with 1 Axes>"
      ]
     },
     "metadata": {
      "needs_background": "light"
     },
     "output_type": "display_data"
    }
   ],
   "source": [
    "with torch.no_grad():\n",
    "    pred = model(x)\n",
    "plt.scatter(x, y)\n",
    "plt.plot(x, pred)"
   ]
  }
 ],
 "metadata": {
  "interpreter": {
   "hash": "4be416ee9dcef36e674a212275b385b48c3f9dd0c74a0004b99a726fb657afa5"
  },
  "kernelspec": {
   "display_name": "Python 3.8.5 64-bit ('base': conda)",
   "name": "python3"
  },
  "language_info": {
   "codemirror_mode": {
    "name": "ipython",
    "version": 3
   },
   "file_extension": ".py",
   "mimetype": "text/x-python",
   "name": "python",
   "nbconvert_exporter": "python",
   "pygments_lexer": "ipython3",
   "version": "3.8.5"
  },
  "orig_nbformat": 4
 },
 "nbformat": 4,
 "nbformat_minor": 2
}

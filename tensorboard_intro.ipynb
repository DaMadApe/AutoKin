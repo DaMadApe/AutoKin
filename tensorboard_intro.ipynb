{
 "cells": [
  {
   "cell_type": "code",
   "execution_count": 33,
   "metadata": {},
   "outputs": [],
   "source": [
    "import torch\n",
    "from torch import nn\n",
    "from torch.utils.tensorboard import SummaryWriter\n",
    "from matplotlib import pyplot as plt\n",
    "writer = SummaryWriter(log_dir=\"tb_runs1\")"
   ]
  },
  {
   "cell_type": "code",
   "execution_count": 34,
   "metadata": {},
   "outputs": [
    {
     "data": {
      "text/plain": [
       "[<matplotlib.lines.Line2D at 0x7f2d53f72c40>]"
      ]
     },
     "execution_count": 34,
     "metadata": {},
     "output_type": "execute_result"
    },
    {
     "data": {
      "image/png": "[encoded data removed]",
      "text/plain": [
       "<Figure size 432x288 with 1 Axes>"
      ]
     },
     "metadata": {
      "needs_background": "light"
     },
     "output_type": "display_data"
    }
   ],
   "source": [
    "x = torch.arange(-1, 1, 0.1).view(-1, 1)\n",
    "y = 3*x**3 - 2*x**2 + 2*x - 10\n",
    "\n",
    "# model = nn.Sequential(nn.Linear(1,30, bias=True),\n",
    "#                       nn.Tanh(),\n",
    "#                       nn.Linear(30, 1, bias=True))\n",
    "\n",
    "model = nn.Sequential(nn.Linear(1,30, bias=True),\n",
    "                      nn.ReLU(),\n",
    "                      nn.Linear(30, 30, bias=True),\n",
    "                      nn.ReLU(),\n",
    "                      nn.Linear(30, 1, bias=True))\n",
    "\n",
    "loss_fn = nn.MSELoss()\n",
    "\n",
    "def train_model(n_epochs, optimizer, hparams):\n",
    "    for epoch in range(n_epochs):\n",
    "        pred = model(x)\n",
    "        loss = loss_fn(pred, y)\n",
    "        #writer.add_hparams(hparams,\n",
    "        #                   \"hparams/loss/train\", loss)\n",
    "        writer.add_scalar(f\"Loss/train\", loss, epoch)\n",
    "        optimizer.zero_grad()\n",
    "        loss.backward()\n",
    "        optimizer.step()\n",
    "\n",
    "lr = 0.001\n",
    "hparams = {'lr': lr}\n",
    "#model.__init__()\n",
    "optimizer = torch.optim.Adam(model.parameters(), lr=lr)\n",
    "train_model(10000, optimizer, hparams)\n",
    "writer.flush() #\"make sure pending evnts have been written\"\n",
    "with torch.no_grad():\n",
    "    pred = model(x)\n",
    "fig, ax = plt.subplots()\n",
    "ax.scatter(x, y)\n",
    "ax.plot(x, pred)"
   ]
  },
  {
   "cell_type": "code",
   "execution_count": 35,
   "metadata": {},
   "outputs": [],
   "source": [
    "writer.close()"
   ]
  }
 ],
 "metadata": {
  "interpreter": {
   "hash": "4be416ee9dcef36e674a212275b385b48c3f9dd0c74a0004b99a726fb657afa5"
  },
  "kernelspec": {
   "display_name": "Python 3.8.5 64-bit ('base': conda)",
   "name": "python3"
  },
  "language_info": {
   "codemirror_mode": {
    "name": "ipython",
    "version": 3
   },
   "file_extension": ".py",
   "mimetype": "text/x-python",
   "name": "python",
   "nbconvert_exporter": "python",
   "pygments_lexer": "ipython3",
   "version": "3.8.5"
  },
  "orig_nbformat": 4
 },
 "nbformat": 4,
 "nbformat_minor": 2
}

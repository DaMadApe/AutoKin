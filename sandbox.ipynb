{
 "cells": [
  {
   "cell_type": "code",
   "execution_count": 20,
   "metadata": {},
   "outputs": [
    {
     "data": {
      "text/plain": [
       "3"
      ]
     },
     "execution_count": 20,
     "metadata": {},
     "output_type": "execute_result"
    }
   ],
   "source": [
    "def f(a=10,b=10):\n",
    "    return a+b\n",
    "def g(**kwags):\n",
    "    return a+b\n",
    "arg = {'a':1, 'b':2} #, 'c':3}\n",
    "f(**arg)"
   ]
  },
  {
   "cell_type": "code",
   "execution_count": 1,
   "metadata": {},
   "outputs": [],
   "source": [
    "import argparse\n",
    "\n",
    "parser = argparse.ArgumentParser()\n",
    "parser.add_argument('--a', type=int)\n",
    "parser.add_argument('--b', type=int)\n",
    "parser.add_argument('--c', type=int)\n",
    "args = parser.parse_args(['--a', '1', '--b', '2', '--c', '3'])"
   ]
  },
  {
   "cell_type": "code",
   "execution_count": 4,
   "metadata": {},
   "outputs": [
    {
     "data": {
      "text/plain": [
       "array([ 0.4521 , -0.15005,  1.10363])"
      ]
     },
     "execution_count": 4,
     "metadata": {},
     "output_type": "execute_result"
    }
   ],
   "source": [
    "import roboticstoolbox as rtb\n",
    "import numpy as np\n",
    "import torch\n",
    "\n",
    "robot = rtb.models.DH.Puma560()\n",
    "robot.fkine(np.zeros(robot.n)).t"
   ]
  },
  {
   "cell_type": "code",
   "execution_count": null,
   "metadata": {},
   "outputs": [],
   "source": [
    "import numpy as np \n",
    "np.meshgrid()"
   ]
  },
  {
   "cell_type": "code",
   "execution_count": 3,
   "metadata": {},
   "outputs": [
    {
     "data": {
      "text/plain": [
       "(tensor([[0.6346, 0.4112],\n",
       "         [0.9095, 0.4123],\n",
       "         [0.3029, 0.7260],\n",
       "         [0.1700, 0.9012],\n",
       "         [0.1265, 0.8438]]),\n",
       " tensor([[ 0.9845],\n",
       "         [-0.2342],\n",
       "         [ 0.8424],\n",
       "         [-0.1087],\n",
       "         [ 0.2889]]))"
      ]
     },
     "execution_count": 3,
     "metadata": {},
     "output_type": "execute_result"
    }
   ],
   "source": [
    "n_samples = 5\n",
    "input_dim = 2\n",
    "def f(x):\n",
    "    r = torch.linalg.norm(4*x**2, dim=1)\n",
    "    return torch.sin(r).view(-1,1)\n",
    "x = torch.rand(n_samples, input_dim)\n",
    "y = f(x)\n",
    "x, y"
   ]
  },
  {
   "cell_type": "code",
   "execution_count": 5,
   "metadata": {},
   "outputs": [
    {
     "data": {
      "text/plain": [
       "(array([[0.        , 5.        ],\n",
       "        [0.55555556, 5.33333333],\n",
       "        [1.11111111, 5.66666667],\n",
       "        [1.66666667, 6.        ],\n",
       "        [2.22222222, 6.33333333],\n",
       "        [2.77777778, 6.66666667],\n",
       "        [3.33333333, 7.        ],\n",
       "        [3.88888889, 7.33333333],\n",
       "        [4.44444444, 7.66666667],\n",
       "        [5.        , 8.        ]]),\n",
       " tensor([[0.0000],\n",
       "         [1.2500],\n",
       "         [2.5000],\n",
       "         [3.7500],\n",
       "         [5.0000]]))"
      ]
     },
     "execution_count": 5,
     "metadata": {},
     "output_type": "execute_result"
    }
   ],
   "source": [
    "import torch\n",
    "import numpy as np\n",
    "x1 = np.linspace((0,5), (5,8), 10)\n",
    "x2 = torch.linspace(0, 5, 5).view(-1, 1)\n",
    "\n",
    "x1, x2#, torch.meshgrid([x1, x2])"
   ]
  },
  {
   "cell_type": "code",
   "execution_count": 5,
   "metadata": {},
   "outputs": [
    {
     "data": {
      "text/plain": [
       "(tensor([[0., 0., 0.],\n",
       "         [1., 1., 1.],\n",
       "         [2., 2., 2.]]),\n",
       " tensor([[5., 6., 7.],\n",
       "         [5., 6., 7.],\n",
       "         [5., 6., 7.]]),\n",
       " tensor([[0., 5.],\n",
       "         [0., 6.],\n",
       "         [0., 7.],\n",
       "         [1., 5.],\n",
       "         [1., 6.],\n",
       "         [1., 7.],\n",
       "         [2., 5.],\n",
       "         [2., 6.],\n",
       "         [2., 7.]]))"
      ]
     },
     "execution_count": 5,
     "metadata": {},
     "output_type": "execute_result"
    }
   ],
   "source": [
    "import torch\n",
    "\n",
    "def f(x): return x.sum(axis=1).view(-1,1)\n",
    "\n",
    "x1_plot = torch.linspace(0, 2, 3)\n",
    "x2_plot = torch.linspace(5, 7, 3)\n",
    "\n",
    "x1_grid, x2_grid = torch.meshgrid(x1_plot, x2_plot)\n",
    "\n",
    "stack = torch.stack([x1_grid, x2_grid], dim=1)\n",
    "\n",
    "x1_grid, x2_grid, torch.stack([x1_grid, x2_grid], dim=-1).view(-1,2)"
   ]
  },
  {
   "cell_type": "markdown",
   "metadata": {},
   "source": []
  }
 ],
 "metadata": {
  "interpreter": {
   "hash": "4be416ee9dcef36e674a212275b385b48c3f9dd0c74a0004b99a726fb657afa5"
  },
  "kernelspec": {
   "display_name": "Python 3.8.5 64-bit ('base': conda)",
   "name": "python3"
  },
  "language_info": {
   "codemirror_mode": {
    "name": "ipython",
    "version": 3
   },
   "file_extension": ".py",
   "mimetype": "text/x-python",
   "name": "python",
   "nbconvert_exporter": "python",
   "pygments_lexer": "ipython3",
   "version": "3.8.5"
  },
  "orig_nbformat": 4
 },
 "nbformat": 4,
 "nbformat_minor": 2
}

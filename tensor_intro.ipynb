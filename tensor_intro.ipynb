{
 "metadata": {
  "language_info": {
   "codemirror_mode": {
    "name": "ipython",
    "version": 3
   },
   "file_extension": ".py",
   "mimetype": "text/x-python",
   "name": "python",
   "nbconvert_exporter": "python",
   "pygments_lexer": "ipython3",
   "version": "3.8.5"
  },
  "orig_nbformat": 2,
  "kernelspec": {
   "name": "python3",
   "display_name": "Python 3.8.5 64-bit ('base': conda)"
  },
  "metadata": {
   "interpreter": {
    "hash": "2cdf16027de25d041799f21881077de18674375207b67c87b0131ea69dcfb186"
   }
  },
  "interpreter": {
   "hash": "2cdf16027de25d041799f21881077de18674375207b67c87b0131ea69dcfb186"
  }
 },
 "nbformat": 4,
 "nbformat_minor": 2,
 "cells": [
  {
   "cell_type": "code",
   "execution_count": 4,
   "source": [
    "import torch"
   ],
   "outputs": [],
   "metadata": {}
  },
  {
   "cell_type": "code",
   "execution_count": 5,
   "source": [
    "a = torch.tensor([[1,2],[3,4]])\n",
    "b = torch.tensor([[0,1],[1,0]])\n",
    "a.size(0)\n",
    "\n",
    "#a, b"
   ],
   "outputs": [
    {
     "output_type": "execute_result",
     "data": {
      "text/plain": [
       "2"
      ]
     },
     "metadata": {},
     "execution_count": 5
    }
   ],
   "metadata": {}
  },
  {
   "cell_type": "code",
   "execution_count": 6,
   "source": [
    "torch.einsum('ij->ji', a)\n",
    "torch.transpose(a,-1,-2)"
   ],
   "outputs": [
    {
     "output_type": "execute_result",
     "data": {
      "text/plain": [
       "tensor([[1, 3],\n",
       "        [2, 4]])"
      ]
     },
     "metadata": {},
     "execution_count": 6
    }
   ],
   "metadata": {}
  },
  {
   "cell_type": "code",
   "execution_count": 7,
   "source": [
    "a.storage()"
   ],
   "outputs": [
    {
     "output_type": "execute_result",
     "data": {
      "text/plain": [
       " 1\n",
       " 2\n",
       " 3\n",
       " 4\n",
       "[torch.LongStorage of size 4]"
      ]
     },
     "metadata": {},
     "execution_count": 7
    }
   ],
   "metadata": {}
  },
  {
   "cell_type": "code",
   "execution_count": 8,
   "source": [
    "#Codificación de puntajes en formato one-hot\n",
    "scores = torch.tensor([[4, 8, 9, 4, 5, 7, 9, 7, 6, 6, 7]])\n",
    "scores.transpose_(0, 1)\n",
    "scores_onehot = torch.zeros(scores.shape[0], 10)\n",
    "scores_onehot.scatter_(1, scores, 1.0)"
   ],
   "outputs": [
    {
     "output_type": "execute_result",
     "data": {
      "text/plain": [
       "tensor([[0., 0., 0., 0., 1., 0., 0., 0., 0., 0.],\n",
       "        [0., 0., 0., 0., 0., 0., 0., 0., 1., 0.],\n",
       "        [0., 0., 0., 0., 0., 0., 0., 0., 0., 1.],\n",
       "        [0., 0., 0., 0., 1., 0., 0., 0., 0., 0.],\n",
       "        [0., 0., 0., 0., 0., 1., 0., 0., 0., 0.],\n",
       "        [0., 0., 0., 0., 0., 0., 0., 1., 0., 0.],\n",
       "        [0., 0., 0., 0., 0., 0., 0., 0., 0., 1.],\n",
       "        [0., 0., 0., 0., 0., 0., 0., 1., 0., 0.],\n",
       "        [0., 0., 0., 0., 0., 0., 1., 0., 0., 0.],\n",
       "        [0., 0., 0., 0., 0., 0., 1., 0., 0., 0.],\n",
       "        [0., 0., 0., 0., 0., 0., 0., 1., 0., 0.]])"
      ]
     },
     "metadata": {},
     "execution_count": 8
    }
   ],
   "metadata": {}
  },
  {
   "cell_type": "code",
   "execution_count": 9,
   "source": [
    "# El autograd acumula los gradientes en el atributo grad de cada parámetro. Los gradientes se siguen acumulando hasta que se reinicia manualmente.\n",
    "import torch\n",
    "\n",
    "a = torch.tensor([1., 0.], requires_grad=True)\n",
    "b = torch.tensor([0., 1.], requires_grad=True)\n",
    "\n",
    "g = a**2 + 3*b\n",
    "g.backward(gradient = torch.tensor([1.,1.]))\n",
    "print(2*a == a.grad)\n",
    "print(3 == b.grad)\n",
    "a, b, a.grad, b.grad, g"
   ],
   "outputs": [
    {
     "output_type": "stream",
     "name": "stdout",
     "text": [
      "tensor([True, True])\n",
      "tensor([True, True])\n"
     ]
    },
    {
     "output_type": "execute_result",
     "data": {
      "text/plain": [
       "(tensor([1., 0.], requires_grad=True),\n",
       " tensor([0., 1.], requires_grad=True),\n",
       " tensor([2., 0.]),\n",
       " tensor([3., 3.]),\n",
       " tensor([1., 3.], grad_fn=<AddBackward0>))"
      ]
     },
     "metadata": {},
     "execution_count": 9
    }
   ],
   "metadata": {}
  },
  {
   "cell_type": "code",
   "execution_count": null,
   "source": [
    "a = torch.tensor([1., 0.])\n",
    "b = torch.tensor([0., 1.]).unsqueeze_(1)\n",
    "\n",
    "f = lambda x : torch.sin(3*x) + x**2\n",
    "\n",
    "f(a), f(b)"
   ],
   "outputs": [
    {
     "output_type": "execute_result",
     "data": {
      "text/plain": [
       "(tensor([1.1411, 0.0000]),\n",
       " tensor([[0.0000],\n",
       "         [1.1411]]))"
      ]
     },
     "metadata": {},
     "execution_count": 5
    }
   ],
   "metadata": {}
  },
  {
   "cell_type": "code",
   "execution_count": null,
   "source": [
    "a = torch.tensor([1., 0., 2., 3.1, 0.1, 0.2, 2.1])\n",
    "b = torch.stack([a, 2*a, 0.5*a]).squeeze(0)\n",
    "print(a<2)\n",
    "print(b<2)\n",
    "print(sum(a<2))\n",
    "print(torch.sum(b<2))"
   ],
   "outputs": [
    {
     "output_type": "stream",
     "name": "stdout",
     "text": [
      "tensor([ True,  True, False, False,  True,  True, False])\n",
      "tensor([[ True,  True, False, False,  True,  True, False],\n",
      "        [False,  True, False, False,  True,  True, False],\n",
      "        [ True,  True,  True,  True,  True,  True,  True]])\n",
      "tensor(4)\n",
      "tensor(14)\n"
     ]
    }
   ],
   "metadata": {}
  },
  {
   "cell_type": "code",
   "execution_count": 17,
   "source": [
    "def testgen(x):\n",
    "    i = 0\n",
    "    while i < x:\n",
    "        yield i\n",
    "        i+=1\n",
    "\n",
    "torch.tensor(testgen(3), dtype = torch.float32)"
   ],
   "outputs": [
    {
     "output_type": "execute_result",
     "data": {
      "text/plain": [
       "range(0, 3)"
      ]
     },
     "metadata": {},
     "execution_count": 17
    }
   ],
   "metadata": {}
  },
  {
   "cell_type": "code",
   "execution_count": 18,
   "source": [
    "torch.arange(5).unsqueeze(1)"
   ],
   "outputs": [
    {
     "output_type": "execute_result",
     "data": {
      "text/plain": [
       "tensor([[0],\n",
       "        [1],\n",
       "        [2],\n",
       "        [3],\n",
       "        [4]])"
      ]
     },
     "metadata": {},
     "execution_count": 18
    }
   ],
   "metadata": {}
  }
 ]
}